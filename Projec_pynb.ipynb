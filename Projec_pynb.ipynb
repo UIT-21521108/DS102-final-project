{
  "nbformat": 4,
  "nbformat_minor": 0,
  "metadata": {
    "colab": {
      "provenance": []
    },
    "kernelspec": {
      "name": "python3",
      "display_name": "Python 3"
    },
    "language_info": {
      "name": "python"
    }
  },
  "cells": [
    {
      "cell_type": "code",
      "execution_count": 8,
      "metadata": {
        "colab": {
          "base_uri": "https://localhost:8080/"
        },
        "id": "ZhjP3BBl-bHV",
        "outputId": "0203eb2c-bf60-47ff-8497-4c9ebcfc01d6"
      },
      "outputs": [
        {
          "output_type": "stream",
          "name": "stdout",
          "text": [
            "Drive already mounted at /content/drive; to attempt to forcibly remount, call drive.mount(\"/content/drive\", force_remount=True).\n"
          ]
        }
      ],
      "source": [
        "from google.colab import drive\n",
        "drive.mount('/content/drive')"
      ]
    },
    {
      "cell_type": "code",
      "source": [
        "import sys\n",
        "import os\n",
        "from math import log\n",
        "import numpy as np\n",
        "import scipy as sp\n",
        "from PIL import Image\n",
        "import matplotlib.pyplot as plt\n",
        "import pandas as pd\n"
      ],
      "metadata": {
        "id": "gRwydqHN_FRM"
      },
      "execution_count": 42,
      "outputs": []
    },
    {
      "cell_type": "code",
      "source": [
        "pe_data_path = \"/content/drive/MyDrive/content/drive/MyDrive/progetto_SS/benign_data/benign\"\n",
        "bytes_data_path = \"/content/drive/MyDrive/content/drive/MyDrive/progetto_SS/benign_data/benign_byte\"\n",
        "img_data_path = \"/content/drive/MyDrive/content/drive/MyDrive/progetto_SS/benign_data/benign_imgs\"\n",
        "csv_data_path = \"/content/drive/MyDrive/content/drive/MyDrive/progetto_SS/benign_data/data.csv\""
      ],
      "metadata": {
        "id": "Ui7jehET_MuX"
      },
      "execution_count": 36,
      "outputs": []
    },
    {
      "cell_type": "code",
      "source": [
        "\n",
        "def pe2hex(file_path, output_file_path):\n",
        "  print('Processing '+file_path)\n",
        "  file = bytearray(open(file_path, 'rb').read())\n",
        "  key = \"\\0\"\n",
        "  with open(output_file_path, 'w') as output:\n",
        "      for count, byte in enumerate(file, 1):\n",
        "          output.write(\n",
        "              f'{byte ^ ord(key[(count - 1) % len(key)]):#0{4}x}' + (\n",
        "                  '\\n' if not count % 16 else ' '))\n",
        ""
      ],
      "metadata": {
        "id": "xokf2WpT_M1b"
      },
      "execution_count": 22,
      "outputs": []
    },
    {
      "cell_type": "code",
      "source": [
        "def hex2img(array, output_img_path):\n",
        "    if array.shape[1]!=16: #If not hexadecimal\n",
        "        assert(False)\n",
        "    b=int((array.shape[0]*16)**(0.5))\n",
        "    b=2**(int(log(b)/log(2))+1)\n",
        "    a=int(array.shape[0]*16/b)\n",
        "    print(a,b,array.shape)\n",
        "    array=array[:a*b//16,:]\n",
        "    array=np.reshape(array,(a,b))\n",
        "    im = Image.fromarray(np.uint8(array))\n",
        "    #out = im.transpose(Image.FLIP_LEFT_RIGHT )\n",
        "    im.save(output_img_path, \"PNG\")\n",
        "    return im\n",
        ""
      ],
      "metadata": {
        "id": "TtolpEjs_QO2"
      },
      "execution_count": 46,
      "outputs": []
    },
    {
      "cell_type": "markdown",
      "source": [
        "\n",
        "\n",
        "\n",
        "**Convert PE files to binary code**\n",
        "\n",
        "\n",
        "\n",
        "\n"
      ],
      "metadata": {
        "id": "iE8rjVggF_H9"
      }
    },
    {
      "cell_type": "code",
      "source": [
        "files= os.listdir(pe_data_path)\n",
        "\n",
        "for counter, name in enumerate(files):\n",
        "  name_output = name.split(\".\")[0]\n",
        "  print(name_output)\n",
        "  pe2hex(os.path.join(pe_data_path,name), os.path.join(bytes_data_path,name_output+\".bytes\"))"
      ],
      "metadata": {
        "id": "XFgzq2LrGkQy"
      },
      "execution_count": null,
      "outputs": []
    },
    {
      "cell_type": "markdown",
      "source": [
        "**Convert binary code to Inmage**"
      ],
      "metadata": {
        "id": "0KZTCHkxJ_Gg"
      }
    },
    {
      "cell_type": "code",
      "source": [
        "df_benign = pd.read_csv(csv_data_path, index_col=False)\n",
        "already_transformed = list(df_benign['img_code'])\n",
        "benign_class_index = 25"
      ],
      "metadata": {
        "id": "Y3NsC9n_ZRhT"
      },
      "execution_count": 44,
      "outputs": []
    },
    {
      "cell_type": "code",
      "source": [
        "files= os.listdir(bytes_data_path)\n",
        "\n",
        "for counter, name in enumerate(files):\n",
        "        name_output = name.split(\".\")[0]\n",
        "\n",
        "        output_image_path = os.path.join(img_data_path,name_output+\".png\")\n",
        "        relative_image_path = os.path.join(\"./benign_data/benign_imgs\", name_output+\".png\")\n",
        "\n",
        "        if(relative_image_path in already_transformed):\n",
        "         continue\n",
        "\n",
        "        print('Processing '+output_image_path)\n",
        "\n",
        "        f=open(os.path.join(bytes_data_path,name), 'r')\n",
        "\n",
        "        array=[]\n",
        "        for line in f:\n",
        "            xx=line.replace(\"\\n\", \"\").split(\" \")\n",
        "\n",
        "            if(len(xx) != 16 or \"\" in xx):\n",
        "              continue\n",
        "\n",
        "            array.append([int(i,16) if i!='??' else 0 for i in xx])\n",
        "\n",
        "        img = hex2img(np.array(array),output_image_path)\n",
        "        del array\n",
        "\n",
        "        df_benign.loc[len(df_benign.index)] = [relative_image_path, benign_class_index]\n",
        "\n",
        "        f.close()"
      ],
      "metadata": {
        "colab": {
          "base_uri": "https://localhost:8080/"
        },
        "id": "Q9zbzWOdTvEl",
        "outputId": "10fdea19-5514-43b0-9186-14717670a4eb"
      },
      "execution_count": 47,
      "outputs": [
        {
          "output_type": "stream",
          "name": "stdout",
          "text": [
            "Processing /content/drive/MyDrive/content/drive/MyDrive/progetto_SS/benign_data/benign_imgs/1093d64194b6d6ad61185f5996ffa0b474dfdc88f0eb793479573fe1d7550929.png\n",
            "2188 4096 (560166, 16)\n",
            "Processing /content/drive/MyDrive/content/drive/MyDrive/progetto_SS/benign_data/benign_imgs/0f4ecc7f67b6d098ba1dae6e2b9700caeb7a736054e6de1286835023d328decb.png\n",
            "524 2048 (67158, 16)\n",
            "Processing /content/drive/MyDrive/content/drive/MyDrive/progetto_SS/benign_data/benign_imgs/05bff93d5b773dd409d8677c4601d76a774a8ecaf6f96e8a6a06a40daee4053c.png\n",
            "214 256 (3424, 16)\n",
            "Processing /content/drive/MyDrive/content/drive/MyDrive/progetto_SS/benign_data/benign_imgs/06ee87f1ff7d24764b66261adb6acfd0c378b62fb3a4403349a5861e06bc540b.png\n",
            "122 128 (981, 16)\n",
            "Processing /content/drive/MyDrive/content/drive/MyDrive/progetto_SS/benign_data/benign_imgs/14560f2199a38d754dd865b162d8c50ea50f0da5514b763e1e7bfb0f06f4a35b.png\n",
            "100 128 (806, 16)\n",
            "Processing /content/drive/MyDrive/content/drive/MyDrive/progetto_SS/benign_data/benign_imgs/16f33d7e7ed9364b7304b98745da7da5697d6baf6124262de46515f722dc98b5.png\n",
            "608 1024 (38944, 16)\n",
            "Processing /content/drive/MyDrive/content/drive/MyDrive/progetto_SS/benign_data/benign_imgs/4254345e5fa80fec2542e57e3134be06334d50f9fb8cbacba54f560f386da9bf.png\n",
            "539 2048 (69051, 16)\n",
            "Processing /content/drive/MyDrive/content/drive/MyDrive/progetto_SS/benign_data/benign_imgs/117b745bbd6ccc5cc6b2c0d1c004daa02a31c1ad9156c19afbdbd308d7c3c44f.png\n",
            "361 512 (11552, 16)\n",
            "Processing /content/drive/MyDrive/content/drive/MyDrive/progetto_SS/benign_data/benign_imgs/3ac5bfd046112d5514a91ed9dc8a67ee5e61e0b8e468a6668ade72da6549c358.png\n",
            "595 2048 (76222, 16)\n",
            "Processing /content/drive/MyDrive/content/drive/MyDrive/progetto_SS/benign_data/benign_imgs/12e5133a7afe6b63885323e76c12871a06062fabcafcf55b32d77f5278dc7509.png\n",
            "170 256 (2730, 16)\n",
            "Processing /content/drive/MyDrive/content/drive/MyDrive/progetto_SS/benign_data/benign_imgs/399c31b1a07dc44318132b15727fffbcba6288c6b2dfb8485567b47b9841c726.png\n",
            "1025 2048 (131300, 16)\n",
            "Processing /content/drive/MyDrive/content/drive/MyDrive/progetto_SS/benign_data/benign_imgs/11a777c5f799e021448c9f3b210efce548340438e545afe2fde00e6e9f136f8e.png\n",
            "173 256 (2782, 16)\n",
            "Processing /content/drive/MyDrive/content/drive/MyDrive/progetto_SS/benign_data/benign_imgs/0cc6ad38534c09c71a7f9366d9561d48aef9616a643466707969714c7595fd57.png\n",
            "161 256 (2581, 16)\n",
            "Processing /content/drive/MyDrive/content/drive/MyDrive/progetto_SS/benign_data/benign_imgs/0db5da86ba2b75cb6ab496c8a7b37182c139b930aa0a8d8e8d2b37b1ac4b7a2c.png\n",
            "98 256 (1569, 16)\n",
            "Processing /content/drive/MyDrive/content/drive/MyDrive/progetto_SS/benign_data/benign_imgs/2b8870316e872ec419f2f7a0089182cb09ec39565b0b3e21bcd121beea54d544.png\n",
            "647 2048 (82848, 16)\n",
            "Processing /content/drive/MyDrive/content/drive/MyDrive/progetto_SS/benign_data/benign_imgs/09df3bc5b5ba838e5898c9386252217f3361506b5798f1669dbdafe888d0f171.png\n",
            "233 256 (3738, 16)\n",
            "Processing /content/drive/MyDrive/content/drive/MyDrive/progetto_SS/benign_data/benign_imgs/13adc27c933219863b7914e1ae01592bf838211f74f893962745a7e902fe0a00.png\n",
            "1011 2048 (129496, 16)\n",
            "Processing /content/drive/MyDrive/content/drive/MyDrive/progetto_SS/benign_data/benign_imgs/26ddd2790fff669f1fdcd301f777ec8975b88a2e8d6d023a1576cebbe81f76e9.png\n",
            "372 1024 (23808, 16)\n",
            "Processing /content/drive/MyDrive/content/drive/MyDrive/progetto_SS/benign_data/benign_imgs/282734e89b24d4ff6cee7776cdbf6b6f140505354708c491806a86873cb69767.png\n",
            "211 512 (6752, 16)\n",
            "Processing /content/drive/MyDrive/content/drive/MyDrive/progetto_SS/benign_data/benign_imgs/98361245c72daba37699a95ef5b60e43ce8e580da45f04969dc2b9d30e7a92bc.png\n",
            "927 2048 (118741, 16)\n",
            "Processing /content/drive/MyDrive/content/drive/MyDrive/progetto_SS/benign_data/benign_imgs/978ef8171f02b8ac7b85736f1f75af94da2e41dc8ced6809641dad0bbb1a0d0a.png\n",
            "1212 2048 (155200, 16)\n",
            "Processing /content/drive/MyDrive/content/drive/MyDrive/progetto_SS/benign_data/benign_imgs/26095cd531cc7ee2a9fe36c64be7ba8df3f912e881f085c32bd485d34c960eaf.png\n",
            "154 256 (2464, 16)\n",
            "Processing /content/drive/MyDrive/content/drive/MyDrive/progetto_SS/benign_data/benign_imgs/938de7d3393c83382e8535845c6849fa227205458d074703691df2f50ec2d86d.png\n",
            "1286 2048 (164645, 16)\n",
            "Processing /content/drive/MyDrive/content/drive/MyDrive/progetto_SS/benign_data/benign_imgs/2496c9a90fd7e90d39a9cea02b27e91a3ecf09a39a6f0887463b4addf29496b1.png\n",
            "204 256 (3264, 16)\n",
            "Processing /content/drive/MyDrive/content/drive/MyDrive/progetto_SS/benign_data/benign_imgs/7f55070a0cc197156894cc6fd3ea883025550b99f8c6df77a1d26f06f82a0ee7.png\n",
            "1180 2048 (151095, 16)\n",
            "Processing /content/drive/MyDrive/content/drive/MyDrive/progetto_SS/benign_data/benign_imgs/7039d7172ce2ee9698336942eb482bd39d08aacea1ad90e944b62be909bba929.png\n",
            "1441 4096 (369023, 16)\n",
            "Processing /content/drive/MyDrive/content/drive/MyDrive/progetto_SS/benign_data/benign_imgs/1fb99bdac97dcaaf7e23b7826b42ed934c62ca866a282d0606320a0a476d6f81.png\n",
            "80 256 (1280, 16)\n",
            "Processing /content/drive/MyDrive/content/drive/MyDrive/progetto_SS/benign_data/benign_imgs/577620ccc34d497410e6b750e9d289ae38177f36fc497b436711084360aa9ea3.png\n",
            "1187 4096 (304093, 16)\n",
            "Processing /content/drive/MyDrive/content/drive/MyDrive/progetto_SS/benign_data/benign_imgs/5441b8c9774ff346f05dea0153fe80c01bd3dc8482d246cfc87c901e15846e72.png\n",
            "1901 2048 (243388, 16)\n",
            "Processing /content/drive/MyDrive/content/drive/MyDrive/progetto_SS/benign_data/benign_imgs/ac25fd6d32db135a0e85645337794cd21f2952cbde4bfb2e43ffb6579a8827b1.png\n",
            "1106 4096 (283360, 16)\n",
            "Processing /content/drive/MyDrive/content/drive/MyDrive/progetto_SS/benign_data/benign_imgs/2d28f554f86904da04e39affeda9c4da6e649fe5a9530cc44d67cc4cf3706d27.png\n",
            "240 256 (3855, 16)\n",
            "Processing /content/drive/MyDrive/content/drive/MyDrive/progetto_SS/benign_data/benign_imgs/2cb483aa33ef8032915fa817ca5c6ef7fc424e8a371caa34e392d780bf4d06ce.png\n",
            "128 256 (2062, 16)\n",
            "Processing /content/drive/MyDrive/content/drive/MyDrive/progetto_SS/benign_data/benign_imgs/a952f28b9281645b82f71eedf00a68dd629d7a679bef62d33758528306c4593a.png\n",
            "1131 2048 (144895, 16)\n",
            "Processing /content/drive/MyDrive/content/drive/MyDrive/progetto_SS/benign_data/benign_imgs/9d3e3e041377e51e969383fa485ea18f723ff6d28cdcc5010b8a312071957b7b.png\n",
            "1143 2048 (146377, 16)\n",
            "Processing /content/drive/MyDrive/content/drive/MyDrive/progetto_SS/benign_data/benign_imgs/33d869a74dbd68243d75d97c92ce1b3052117c729b81e79098e7c5b0ba4881f8.png\n",
            "89 256 (1436, 16)\n",
            "Processing /content/drive/MyDrive/content/drive/MyDrive/progetto_SS/benign_data/benign_imgs/bc0bd5890b4ce517d19fd8cf506bb54a4708786709fdaee4a0c624fb5523150f.png\n",
            "755 2048 (96730, 16)\n",
            "Processing /content/drive/MyDrive/content/drive/MyDrive/progetto_SS/benign_data/benign_imgs/ba33cf86865dfbcc58ddbc9339e6baab5a8b4b03019008ee914cc1891daf58b9.png\n",
            "2162 4096 (553719, 16)\n",
            "Processing /content/drive/MyDrive/content/drive/MyDrive/progetto_SS/benign_data/benign_imgs/b1f1680b803f5acbde994aad28fe12ed7a21d0708d2f5fbfc650ff33d67dd48c.png\n",
            "1619 4096 (414529, 16)\n",
            "Processing /content/drive/MyDrive/content/drive/MyDrive/progetto_SS/benign_data/benign_imgs/44f94f1d88cbc98e96ef947b48b17fee609682dccfa4184294c23cd1b1afe75e.png\n",
            "130 512 (4187, 16)\n",
            "Processing /content/drive/MyDrive/content/drive/MyDrive/progetto_SS/benign_data/benign_imgs/4363bb5c5ca4bc909d7eed5940fd71b5d93551267563792e58ba4b6fa5f6e312.png\n",
            "360 512 (11520, 16)\n",
            "Processing /content/drive/MyDrive/content/drive/MyDrive/progetto_SS/benign_data/benign_imgs/f8fe4715142475f64c76ca56f3954022407c2e4b4abc23f84c8e5958b0c616a1.png\n",
            "677 2048 (86705, 16)\n",
            "Processing /content/drive/MyDrive/content/drive/MyDrive/progetto_SS/benign_data/benign_imgs/f74e793f09094510fb7b95d211db7c28767f5e889736a17c79f66a1626aae126.png\n",
            "1270 4096 (325251, 16)\n",
            "Processing /content/drive/MyDrive/content/drive/MyDrive/progetto_SS/benign_data/benign_imgs/f5cd676fd638ce42a546d9e44301bf5a703057e65ab07b1aed81222eec3f1791.png\n",
            "2001 4096 (512397, 16)\n",
            "Processing /content/drive/MyDrive/content/drive/MyDrive/progetto_SS/benign_data/benign_imgs/f2f19b8f33bbb90c97a858e4c26fdaa27e7d2e03ec3a2fc91441ea0a271187bd.png\n",
            "1641 2048 (210145, 16)\n",
            "Processing /content/drive/MyDrive/content/drive/MyDrive/progetto_SS/benign_data/benign_imgs/f28c7ec3ea47d949ab6a06a6a0bbb3ba0b81c9ec7aa0ba599b7d3a71ab31eef1.png\n",
            "1589 4096 (406976, 16)\n",
            "Processing /content/drive/MyDrive/content/drive/MyDrive/progetto_SS/benign_data/benign_imgs/f26eab5c8acbc42566ecb4b4afe44f000a2339901fa868bb57b6010e1cee8206.png\n",
            "577 2048 (73920, 16)\n",
            "Processing /content/drive/MyDrive/content/drive/MyDrive/progetto_SS/benign_data/benign_imgs/cac3f6f3e4160beb3e5fbeeebb1c292482f0ed8a9535aa255eeb26eef9172ea5.png\n",
            "1895 2048 (242610, 16)\n",
            "Processing /content/drive/MyDrive/content/drive/MyDrive/progetto_SS/benign_data/benign_imgs/c33f8bc03d98cbde2ba8dc47fc97be4b6094a44ffcae13a46fb18f7c7d74f95f.png\n",
            "661 2048 (84640, 16)\n",
            "Processing /content/drive/MyDrive/content/drive/MyDrive/progetto_SS/benign_data/benign_imgs/4ae3cade71f68d3c432efe498b22392e48b5c106a391a03fca146a1db50b259c.png\n",
            "108 256 (1728, 16)\n",
            "Processing /content/drive/MyDrive/content/drive/MyDrive/progetto_SS/benign_data/benign_imgs/4a6babbdc2d3b6be079c36e7f54009731e656a7a1f0ae5a7f4fa67279c3d6302.png\n",
            "94 128 (752, 16)\n",
            "Processing /content/drive/MyDrive/content/drive/MyDrive/progetto_SS/benign_data/benign_imgs/46989ac9d1c49aad8d9acac1766b06ea4cbfef548eeedd5f5559fb01a86ce040.png\n",
            "95 256 (1523, 16)\n",
            "Processing /content/drive/MyDrive/content/drive/MyDrive/progetto_SS/benign_data/benign_imgs/621c3430af290e8ed10683d645961c1a047b3eb8521645853a26176597f38760.png\n",
            "860 1024 (55089, 16)\n",
            "Processing /content/drive/MyDrive/content/drive/MyDrive/progetto_SS/benign_data/benign_imgs/605277968dd1b2f324f1563f0c67a7225715c3d2859c6a435e0c5ef519093621.png\n",
            "202 256 (3232, 16)\n",
            "Processing /content/drive/MyDrive/content/drive/MyDrive/progetto_SS/benign_data/benign_imgs/5ef52d4b1d5c37ee73a0913a68d667c5eb2c6029541c1a8de4f791302b555d6c.png\n",
            "619 1024 (39648, 16)\n",
            "Processing /content/drive/MyDrive/content/drive/MyDrive/progetto_SS/benign_data/benign_imgs/5aa42dc2a9a4cb510f29d777af29664543706baf7ed5ca9ec9cf34c489b6fa83.png\n",
            "93 128 (745, 16)\n",
            "Processing /content/drive/MyDrive/content/drive/MyDrive/progetto_SS/benign_data/benign_imgs/5b11a884316154365dbcd253d922853525530eb2043083cdec691442aa7fd69e.png\n",
            "160 256 (2560, 16)\n",
            "Processing /content/drive/MyDrive/content/drive/MyDrive/progetto_SS/benign_data/benign_imgs/71873e2b4ec947f01b38ca37b2318f4a40c441268758cc4d60ebf99994ee1f65.png\n",
            "94 256 (1504, 16)\n",
            "Processing /content/drive/MyDrive/content/drive/MyDrive/progetto_SS/benign_data/benign_imgs/7127ad6fc81ce4739f229ce0f19f80535940a0efa860d13e3cb5e162a30d9577.png\n",
            "211 256 (3388, 16)\n",
            "Processing /content/drive/MyDrive/content/drive/MyDrive/progetto_SS/benign_data/benign_imgs/716333df2e562cb8f35cba395fc4099bad7d28c5fe3ea391611163b04cd7e04e.png\n",
            "151 256 (2417, 16)\n",
            "Processing /content/drive/MyDrive/content/drive/MyDrive/progetto_SS/benign_data/benign_imgs/6cc51f0ce3538b27425b78a31afce0e64f1cf9cfc02c3eac4144370c19a32654.png\n",
            "426 512 (13635, 16)\n",
            "Processing /content/drive/MyDrive/content/drive/MyDrive/progetto_SS/benign_data/benign_imgs/6a5a9543efdcbfea2f59591f16302e200dbcc4966c7642aabc9be79910d7855a.png\n",
            "134 512 (4288, 16)\n",
            "Processing /content/drive/MyDrive/content/drive/MyDrive/progetto_SS/benign_data/benign_imgs/65f2e6703382a75b5f3c6f6b9cbf701cedc40172dbd6068a6f1cc0b94a3bce1e.png\n",
            "234 256 (3744, 16)\n",
            "Processing /content/drive/MyDrive/content/drive/MyDrive/progetto_SS/benign_data/benign_imgs/8298cafe8d696c08acb1d7d2b1171c9f7fed918bc92037b6e31e37082fc26c3d.png\n",
            "483 512 (15456, 16)\n",
            "Processing /content/drive/MyDrive/content/drive/MyDrive/progetto_SS/benign_data/benign_imgs/82599dba34b4cf08f41cd37b88e261f7480aebd9075fc41e2fbbae81ca3b4b9a.png\n",
            "176 256 (2818, 16)\n",
            "Processing /content/drive/MyDrive/content/drive/MyDrive/progetto_SS/benign_data/benign_imgs/80dba21d296487359f1eabfcd5c05aab49c087373e11436b07fb1fd8bebc0928.png\n",
            "148 512 (4736, 16)\n",
            "Processing /content/drive/MyDrive/content/drive/MyDrive/progetto_SS/benign_data/benign_imgs/80730d31243d7a31e7f6796aae2ad2168ab8201ad4800f632abc0239b35d04fe.png\n",
            "72 128 (577, 16)\n",
            "Processing /content/drive/MyDrive/content/drive/MyDrive/progetto_SS/benign_data/benign_imgs/7e56506cd9ec76b0ea14352b8cf804b7444408d8745c4ed755e7fca51d757e3b.png\n",
            "147 512 (4720, 16)\n",
            "Processing /content/drive/MyDrive/content/drive/MyDrive/progetto_SS/benign_data/benign_imgs/76fe3c60788550dde172e3722a624f1407890e3cc39895f9dc233d0e0cc5e566.png\n",
            "85 128 (681, 16)\n",
            "Processing /content/drive/MyDrive/content/drive/MyDrive/progetto_SS/benign_data/benign_imgs/755c00b1e667605746edc0eb826412dca4f317fd290728b5c71e6a7c12f537ed.png\n",
            "184 512 (5888, 16)\n",
            "Processing /content/drive/MyDrive/content/drive/MyDrive/progetto_SS/benign_data/benign_imgs/8ddb2c5204706cb9202b88c7d2e38164673979f7f8f2de8c45447beac254ae0d.png\n",
            "257 1024 (16478, 16)\n",
            "Processing /content/drive/MyDrive/content/drive/MyDrive/progetto_SS/benign_data/benign_imgs/8b8716f706607fc8f3012e6ec850a4c5dbe985be0f572d7279cf89466c756c59.png\n",
            "182 256 (2923, 16)\n",
            "Processing /content/drive/MyDrive/content/drive/MyDrive/progetto_SS/benign_data/benign_imgs/8c1f31d4cfe5f5a1a9f0890ea583faaea500956b79249e7ed689ce90300b8ba4.png\n",
            "130 256 (2080, 16)\n",
            "Processing /content/drive/MyDrive/content/drive/MyDrive/progetto_SS/benign_data/benign_imgs/894e167a815606bb9bd43a62314f58afa84396be4b86988545c32e39e8f57c01.png\n",
            "799 1024 (51179, 16)\n",
            "Processing /content/drive/MyDrive/content/drive/MyDrive/progetto_SS/benign_data/benign_imgs/865cc9368867ad6bf4ded5d081ae80bf4b41448e2c2d15cf6e5210eff850603c.png\n",
            "238 256 (3808, 16)\n",
            "Processing /content/drive/MyDrive/content/drive/MyDrive/progetto_SS/benign_data/benign_imgs/86109cf71b6b9a1d2e74e24a8da1d762eb643ab6bb46cd075757c59d43cf6074.png\n",
            "186 256 (2976, 16)\n",
            "Processing /content/drive/MyDrive/content/drive/MyDrive/progetto_SS/benign_data/benign_imgs/9ec37fbce45723838d736491fcb93fa90345062ea00d8d7bcc04700f03ebc699.png\n",
            "164 256 (2624, 16)\n",
            "Processing /content/drive/MyDrive/content/drive/MyDrive/progetto_SS/benign_data/benign_imgs/a6266f82f8549582c1ede57f127c9f65e2f7271c42b7ed51f0fef0f0eb2bb90e.png\n",
            "864 1024 (55301, 16)\n",
            "Processing /content/drive/MyDrive/content/drive/MyDrive/progetto_SS/benign_data/benign_imgs/a7e61101c58d9eaedac513e50a4696e2f76634103cb99fba52e4c54e3af03b3c.png\n",
            "134 512 (4288, 16)\n",
            "Processing /content/drive/MyDrive/content/drive/MyDrive/progetto_SS/benign_data/benign_imgs/a27af7578372fc280b0486ddd9e2fb493e2adcd7d77caee7b160090d82e8096a.png\n",
            "211 512 (6752, 16)\n",
            "Processing /content/drive/MyDrive/content/drive/MyDrive/progetto_SS/benign_data/benign_imgs/a17e835947f1099f0ea8a9e4b2406b25eb0c3ea2f8e412d33900f7edcfedf82b.png\n",
            "230 512 (7360, 16)\n",
            "Processing /content/drive/MyDrive/content/drive/MyDrive/progetto_SS/benign_data/benign_imgs/ab9d8a305bac15d5bb3701274daba75b4ed6f73274da9b824d0ed89bcd8e3779.png\n",
            "201 512 (6432, 16)\n",
            "Processing /content/drive/MyDrive/content/drive/MyDrive/progetto_SS/benign_data/benign_imgs/b9a79c3a6a9c2ec95a6bff9d4960643a12ccdf7404e70935d38144b7c8010605.png\n",
            "124 256 (1984, 16)\n",
            "Processing /content/drive/MyDrive/content/drive/MyDrive/progetto_SS/benign_data/benign_imgs/b8509895729b9ceded9f2c025c395c680b129be6817e1f9fc9ab779147851353.png\n",
            "166 256 (2671, 16)\n",
            "Processing /content/drive/MyDrive/content/drive/MyDrive/progetto_SS/benign_data/benign_imgs/b7d85b472b49a22a188cefabe32d0df2f44b02303e90dca3ef4c88347d07ca62.png\n",
            "236 512 (7552, 16)\n",
            "Processing /content/drive/MyDrive/content/drive/MyDrive/progetto_SS/benign_data/benign_imgs/bad0f7e1c8db0923888fa5e93b4685ec60c4e5097a40547803a756eff49b69e4.png\n",
            "148 512 (4736, 16)\n",
            "Processing /content/drive/MyDrive/content/drive/MyDrive/progetto_SS/benign_data/benign_imgs/c620b5dc70cf6ea6f614907701e2bdff014272ee3ef37495ebdb07ab562d798c.png\n",
            "638 1024 (40864, 16)\n",
            "Processing /content/drive/MyDrive/content/drive/MyDrive/progetto_SS/benign_data/benign_imgs/c24afc327fc9f1e9e2d908d5f015e8d8d0e80b38552289d54f84297403b9c5a7.png\n",
            "220 256 (3520, 16)\n",
            "Processing /content/drive/MyDrive/content/drive/MyDrive/progetto_SS/benign_data/benign_imgs/c188aba86d2b56c50076304bf924e7bb1ab5381468e0bc23486d3559dc9e8f8b.png\n",
            "153 512 (4911, 16)\n",
            "Processing /content/drive/MyDrive/content/drive/MyDrive/progetto_SS/benign_data/benign_imgs/cbd6ef192e157bb70e3b89ffdd626be5cbac9174103f3b8b1d1f898d51e539de.png\n",
            "224 256 (3586, 16)\n",
            "Processing /content/drive/MyDrive/content/drive/MyDrive/progetto_SS/benign_data/benign_imgs/cb0f6902361988f9913c927a46a9c07d129eb9dbb9629a6b508767658e1f21e4.png\n",
            "105 256 (1683, 16)\n",
            "Processing /content/drive/MyDrive/content/drive/MyDrive/progetto_SS/benign_data/benign_imgs/dd1aa66063f43ae3ae2c41280a70ed01ca26a7eed780b5d9cb90fcb10b260cc2.png\n",
            "458 512 (14656, 16)\n",
            "Processing /content/drive/MyDrive/content/drive/MyDrive/progetto_SS/benign_data/benign_imgs/dd8d3acca93a81bf03e65a3779257e18d16e123afaf41b393a883f2a3b4412d2.png\n",
            "186 256 (2976, 16)\n",
            "Processing /content/drive/MyDrive/content/drive/MyDrive/progetto_SS/benign_data/benign_imgs/d8613f44938d19c092dae2d286964d6c580ac69bf742e296c371706467ca7d9a.png\n",
            "313 1024 (20047, 16)\n",
            "Processing /content/drive/MyDrive/content/drive/MyDrive/progetto_SS/benign_data/benign_imgs/d34f104fc54a1613b041ad9cf73e63c9560df071362c9afe2c2322bf6443186d.png\n",
            "316 512 (10112, 16)\n",
            "Processing /content/drive/MyDrive/content/drive/MyDrive/progetto_SS/benign_data/benign_imgs/d1617b8751713eab94bea266dbe9f86745f2f921668e9ff37e9c5f16635ca5f8.png\n",
            "105 256 (1685, 16)\n",
            "Processing /content/drive/MyDrive/content/drive/MyDrive/progetto_SS/benign_data/benign_imgs/ea605ed13742ab354443694773af11528c8fe58060510877d338a92e0214e5b0.png\n",
            "201 512 (6432, 16)\n",
            "Processing /content/drive/MyDrive/content/drive/MyDrive/progetto_SS/benign_data/benign_imgs/e4e48ec4f35ab5a21f791b014d1c626d6758906bf6ecff845ae3a6be90a97f1c.png\n",
            "276 512 (8844, 16)\n",
            "Processing /content/drive/MyDrive/content/drive/MyDrive/progetto_SS/benign_data/benign_imgs/e0e61d43bb747cbf2c318f32f0e405abf96ca648afedc0c697bf9af9c5d62ad1.png\n",
            "206 256 (3296, 16)\n",
            "Processing /content/drive/MyDrive/content/drive/MyDrive/progetto_SS/benign_data/benign_imgs/f267b60e9f5b1115248af7c9fcadd9e7c6f7ca60a02ef503634a41463d6884cb.png\n",
            "269 512 (8608, 16)\n",
            "Processing /content/drive/MyDrive/content/drive/MyDrive/progetto_SS/benign_data/benign_imgs/efdc75e83e2b16ccceffae9b757d68f9f1393f60a1d049425375bc8078592b32.png\n",
            "391 512 (12518, 16)\n"
          ]
        }
      ]
    },
    {
      "cell_type": "code",
      "source": [
        "df_benign.to_csv(csv_data_path, index=False)"
      ],
      "metadata": {
        "id": "jp1iPrvEZ3JM"
      },
      "execution_count": 48,
      "outputs": []
    }
  ]
}